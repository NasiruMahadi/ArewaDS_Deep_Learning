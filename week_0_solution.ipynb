{
  "nbformat": 4,
  "nbformat_minor": 0,
  "metadata": {
    "colab": {
      "provenance": []
    },
    "kernelspec": {
      "name": "python3",
      "display_name": "Python 3"
    },
    "language_info": {
      "name": "python"
    }
  },
  "cells": [
    {
      "cell_type": "markdown",
      "source": [
        "## Arewa Data Science Academy\n",
        "### Deep Learning Cohort2.0\n",
        "\n",
        "#### Name: Nasiru Mahadi\n",
        "#### Email: nasirumahadi@gmail.com\n",
        "#### Title: Week 1 Solution\n"
      ],
      "metadata": {
        "id": "zZkypJpGvIQ1"
      }
    },
    {
      "cell_type": "markdown",
      "source": [
        "### Exercises Solution"
      ],
      "metadata": {
        "id": "Ur4jmulYvbcR"
      }
    },
    {
      "cell_type": "markdown",
      "source": [
        "2. Create a random tensor with shape (7, 7)"
      ],
      "metadata": {
        "id": "Oy5AySVCvg9h"
      }
    },
    {
      "cell_type": "code",
      "execution_count": 5,
      "metadata": {
        "colab": {
          "base_uri": "https://localhost:8080/"
        },
        "id": "hR8YDNmKteor",
        "outputId": "e7045179-83c8-47d1-dd85-ebdab94098f7"
      },
      "outputs": [
        {
          "output_type": "stream",
          "name": "stdout",
          "text": [
            "tensor([[0.4495, 0.1205, 0.9621, 0.3350, 0.9417, 0.9625, 0.1185],\n",
            "        [0.5680, 0.2874, 0.4092, 0.8802, 0.1351, 0.1606, 0.6266],\n",
            "        [0.4712, 0.0851, 0.0246, 0.8953, 0.4444, 0.0354, 0.5192],\n",
            "        [0.0259, 0.6052, 0.0338, 0.4932, 0.1266, 0.8389, 0.1127],\n",
            "        [0.9515, 0.9097, 0.8308, 0.9146, 0.9490, 0.9070, 0.6534],\n",
            "        [0.1018, 0.2130, 0.1071, 0.0677, 0.4838, 0.6273, 0.2169],\n",
            "        [0.2637, 0.9071, 0.9520, 0.9903, 0.1447, 0.3849, 0.2376]])\n"
          ]
        }
      ],
      "source": [
        "# Import torch\n",
        "import torch\n",
        "\n",
        "# Create random tensor\n",
        "random_tensor = torch.rand(7, 7)\n",
        "\n",
        "print(random_tensor)"
      ]
    },
    {
      "cell_type": "markdown",
      "source": [
        "2. Perform a matrix multiplication on the tensor from 2 with another random tensor with shape (1, 7) (hint: you may have to transpose the second tensor)."
      ],
      "metadata": {
        "id": "Rj-Af7oEvKfS"
      }
    },
    {
      "cell_type": "code",
      "source": [
        " # Create second random tensor\n",
        " tensor2 = torch.rand(1, 7)\n",
        "\n",
        "# Transpose tensor2\n",
        "tensor2_transposed = tensor2.t()\n",
        "\n",
        "# Transpose tensor2\n",
        "tensor2_transposed = tensor2.t()\n",
        "\n",
        "# Perform matrix multiplication using torch.matmul or @ operator\n",
        "result_tensor = torch.matmul(random_tensor, tensor2_transposed)\n",
        "\n",
        "print(result_tensor)"
      ],
      "metadata": {
        "colab": {
          "base_uri": "https://localhost:8080/"
        },
        "id": "g7_uGQyfvNkO",
        "outputId": "fcd12bbe-24cb-4730-bf8c-c0df0a10782a"
      },
      "execution_count": 10,
      "outputs": [
        {
          "output_type": "stream",
          "name": "stdout",
          "text": [
            "tensor([[1.4862],\n",
            "        [1.4960],\n",
            "        [0.9586],\n",
            "        [0.5375],\n",
            "        [2.6000],\n",
            "        [0.4716],\n",
            "        [1.8242]])\n"
          ]
        }
      ]
    },
    {
      "cell_type": "markdown",
      "source": [],
      "metadata": {
        "id": "wUzpqtq3wKKV"
      }
    },
    {
      "cell_type": "markdown",
      "source": [
        "3. Set the random seed to 0 and do 2 & 3 over again."
      ],
      "metadata": {
        "id": "cF3oEl0swtyw"
      }
    },
    {
      "cell_type": "code",
      "source": [
        "# Set the random seed\n",
        "torch.manual_seed(0)\n",
        "\n",
        "# Create random tensor with shape (7, 7)\n",
        "random_tensor = torch.rand(7, 7)\n",
        "\n",
        "# Create second random tensor with shape (1, 7)\n",
        "tensor2 = torch.rand(1, 7)\n",
        "\n",
        "# Perform matrix multiplication\n",
        "result_tensor = torch.matmul(random_tensor, tensor2_transposed)\n",
        "\n",
        "print(result_tensor)"
      ],
      "metadata": {
        "colab": {
          "base_uri": "https://localhost:8080/"
        },
        "id": "UUtRXVBawyd_",
        "outputId": "65a76ad8-a99f-470a-ef4c-afdc9a197701"
      },
      "execution_count": 11,
      "outputs": [
        {
          "output_type": "stream",
          "name": "stdout",
          "text": [
            "tensor([[1.2136],\n",
            "        [1.7167],\n",
            "        [1.6453],\n",
            "        [1.8774],\n",
            "        [0.8840],\n",
            "        [1.2685],\n",
            "        [0.9148]])\n"
          ]
        }
      ]
    },
    {
      "cell_type": "markdown",
      "source": [
        "4.  Speaking of random seeds, we saw how to set it with torch.manual_seed() but is there a GPU equivalent? (hint: you'll need to look into the documentation for torch.cuda for this one) If there is, set the GPU random seed to 1234"
      ],
      "metadata": {
        "id": "VE9ER9_XxrmK"
      }
    },
    {
      "cell_type": "code",
      "source": [
        "# Set the GPU random seed to 1234\n",
        "torch.cuda.manual_seed(1234)  # For the current GPU\n"
      ],
      "metadata": {
        "id": "0X9hCfXMxxSu"
      },
      "execution_count": 12,
      "outputs": []
    },
    {
      "cell_type": "markdown",
      "source": [
        "5. Create two random tensors of shape (2, 3) and send them both to the GPU (you'll need access to a GPU for this). Set torch.manual_seed(1234) when creating the tensors (this doesn't have to be the GPU random seed). The output should be something like:\n",
        "Device: cuda\n",
        "(tensor([[0.0290, 0.4019, 0.2598],\n",
        "         [0.3666, 0.0583, 0.7006]], device='cuda:0'),\n",
        " tensor([[0.0518, 0.4681, 0.6738],\n",
        "         [0.3315, 0.7837, 0.5631]], device='cuda:0'))"
      ],
      "metadata": {
        "id": "2mBVJbK7yP-8"
      }
    },
    {
      "cell_type": "code",
      "source": [
        "torch.manual_seed(1234)  # Set random seed\n",
        "\n",
        "# Create two random tensors of shape (2, 3)\n",
        "tensor1 = torch.rand(2, 3)\n",
        "tensor2 = torch.rand(2, 3)\n",
        "\n",
        "# Move tensors to the selected device (GPU or CPU)\n",
        "tensor1 = tensor1.to(device)\n",
        "tensor2 = tensor2.to(device)\n",
        "\n",
        "print((tensor1, tensor2))"
      ],
      "metadata": {
        "colab": {
          "base_uri": "https://localhost:8080/"
        },
        "id": "JkXz7lP9yb5k",
        "outputId": "738d8e40-71a8-4cec-f740-98c679a76407"
      },
      "execution_count": 16,
      "outputs": [
        {
          "output_type": "stream",
          "name": "stdout",
          "text": [
            "(tensor([[0.0290, 0.4019, 0.2598],\n",
            "        [0.3666, 0.0583, 0.7006]]), tensor([[0.0518, 0.4681, 0.6738],\n",
            "        [0.3315, 0.7837, 0.5631]]))\n"
          ]
        }
      ]
    },
    {
      "cell_type": "markdown",
      "source": [
        "6. Perform a matrix multiplication on the tensors you created in 6 (again, you may have to adjust the shapes of one of the tensors)"
      ],
      "metadata": {
        "id": "Awm04Az_zUTc"
      }
    },
    {
      "cell_type": "code",
      "source": [
        "# Assuming tensor1 and tensor2 are already on the GPU\n",
        "tensor2_transposed = tensor2.t()  # Transpose tensor2\n",
        "\n",
        "# Perform matrix multiplication\n",
        "result_tensor = torch.matmul(tensor1, tensor2_transposed)\n",
        "\n",
        "\n",
        "print(result_tensor)"
      ],
      "metadata": {
        "colab": {
          "base_uri": "https://localhost:8080/"
        },
        "id": "lRBUtvW3zwj6",
        "outputId": "33eaf707-fdbe-444e-a0fa-30f913ebb80d"
      },
      "execution_count": 17,
      "outputs": [
        {
          "output_type": "stream",
          "name": "stdout",
          "text": [
            "tensor([[0.3647, 0.4709],\n",
            "        [0.5184, 0.5617]])\n"
          ]
        }
      ]
    },
    {
      "cell_type": "markdown",
      "source": [
        "7. Find the maximum and minimum values of the output of 7."
      ],
      "metadata": {
        "id": "mzDasW2N0KZX"
      }
    },
    {
      "cell_type": "code",
      "source": [
        "# Find the maximum value\n",
        "max_value = torch.max(result_tensor)\n",
        "print(\"Maximum value:\", max_value.item())  # .item() to get the scalar value"
      ],
      "metadata": {
        "colab": {
          "base_uri": "https://localhost:8080/"
        },
        "id": "T8CgSX-A0MzV",
        "outputId": "1ed92ae7-503b-4faf-e916-7b704a56b134"
      },
      "execution_count": 18,
      "outputs": [
        {
          "output_type": "stream",
          "name": "stdout",
          "text": [
            "Maximum value: 0.5617256760597229\n"
          ]
        }
      ]
    },
    {
      "cell_type": "markdown",
      "source": [
        "8. Find the maximum and minimum index values of the output of 7."
      ],
      "metadata": {
        "id": "NQqIzaC80Y8P"
      }
    },
    {
      "cell_type": "code",
      "source": [
        "# Find the index of the maximum value\n",
        "max_index = torch.argmax(result_tensor)\n",
        "print(\"Index of maximum value:\", max_index.item())  # .item() to get the scalar index"
      ],
      "metadata": {
        "colab": {
          "base_uri": "https://localhost:8080/"
        },
        "id": "_fioiQm60a3w",
        "outputId": "4bf90f71-ab2a-46a1-a45c-24d94dd99a46"
      },
      "execution_count": 19,
      "outputs": [
        {
          "output_type": "stream",
          "name": "stdout",
          "text": [
            "Index of maximum value: 3\n"
          ]
        }
      ]
    },
    {
      "cell_type": "markdown",
      "source": [
        "9.  Make a random tensor with shape (1, 1, 1, 10) and then create a new tensor with all the 1 dimensions removed to be left with a tensor of shape (10). Set the seed to 7 when you create it and print out the first tensor and it's shape as well as the second tensor and it's shape"
      ],
      "metadata": {
        "id": "pLIMlHEr0rIr"
      }
    },
    {
      "cell_type": "code",
      "source": [
        "torch.manual_seed(7)  # Set the random seed\n",
        "\n",
        "tensor1 = torch.rand(1, 1, 1, 10)\n",
        "\n",
        "tensor2 = torch.squeeze(tensor1)\n",
        "\n",
        "\n",
        "print(\"First tensor:\", tensor1)\n",
        "print(\"Shape of first tensor:\", tensor1.shape)\n",
        "print(\"Second tensor:\", tensor2)\n",
        "print(\"Shape of second tensor:\", tensor2.shape)\n",
        ""
      ],
      "metadata": {
        "colab": {
          "base_uri": "https://localhost:8080/"
        },
        "id": "H2RoVXOQ0tJ1",
        "outputId": "f8a6ccb5-53a3-476a-8241-3bb1da9ca9eb"
      },
      "execution_count": 20,
      "outputs": [
        {
          "output_type": "stream",
          "name": "stdout",
          "text": [
            "First tensor: tensor([[[[0.5349, 0.1988, 0.6592, 0.6569, 0.2328, 0.4251, 0.2071, 0.6297,\n",
            "           0.3653, 0.8513]]]])\n",
            "Shape of first tensor: torch.Size([1, 1, 1, 10])\n",
            "Second tensor: tensor([0.5349, 0.1988, 0.6592, 0.6569, 0.2328, 0.4251, 0.2071, 0.6297, 0.3653,\n",
            "        0.8513])\n",
            "Shape of second tensor: torch.Size([10])\n"
          ]
        }
      ]
    }
  ]
}